{
 "cells": [
  {
   "cell_type": "code",
   "execution_count": 2,
   "id": "0f63b067",
   "metadata": {},
   "outputs": [
    {
     "name": "stdout",
     "output_type": "stream",
     "text": [
      "{'gold': 550, 'pouch': ['flint', 'twine', 'gemstone'], 'backpack': ['bedroll', 'bread loaf', 'xylophone'], 'pocket': ['seashell', 'strange berry', 'lint']}\n"
     ]
    }
   ],
   "source": [
    "inventory = {\n",
    "    'gold' : 500,\n",
    "    'pouch' : ['flint','twine','gemstone'],\n",
    "    'backpack' : ['xylophone','dagger','bedroll','bread loaf']\n",
    "}\n",
    "\n",
    "inventory['pocket']=['seashell','strange berry','lint']\n",
    "inventory['backpack'].sort()\n",
    "inventory['backpack'].remove('dagger')\n",
    "inventory['gold']=inventory['gold']+50\n",
    "\n",
    "print (inventory)\n"
   ]
  },
  {
   "cell_type": "code",
   "execution_count": 80,
   "id": "5ca994f1",
   "metadata": {
    "scrolled": true
   },
   "outputs": [
    {
     "name": "stdout",
     "output_type": "stream",
     "text": [
      "banana\n",
      "prices: 4 \n",
      " stock:6\n",
      "apple\n",
      "prices: 2 \n",
      " stock:0\n",
      "orange\n",
      "prices: 1.5 \n",
      " stock:32\n",
      "pear\n",
      "prices: 3 \n",
      " stock:15\n",
      "subtotals: \n",
      "\n",
      "Subtotal banana: 24.00\n",
      "Subtotal apple: 0.00\n",
      "Subtotal orange: 48.00\n",
      "Subtotal pear: 45.00\n",
      "Total is: 117.00\n"
     ]
    }
   ],
   "source": [
    "prices={}\n",
    "prices[\"banana\"]=4\n",
    "prices[\"apple\"]=2\n",
    "prices[\"orange\"]=1.5\n",
    "prices[\"pear\"]=3\n",
    "    \n",
    "stock={}\n",
    "stock[\"banana\"]=6\n",
    "stock[\"apple\"]=0\n",
    "stock[\"orange\"]=32\n",
    "stock[\"pear\"]=15\n",
    "\n",
    "for i,stock_price in stock.items():\n",
    "    print(i)\n",
    "    print(\"prices: {} \\n stock:{}\".format(prices[i],stock_price))\n",
    "print(\"subtotals: \\n\")\n",
    "\n",
    "total=0\n",
    "for i,price in prices.items():\n",
    "    sub_total=stock[i]*price\n",
    "    total= total+sub_total\n",
    "    print(\"Subtotal {}: {:.2f}\".format(i,sub_total))\n",
    "print(\"Total is: {:.2f}\".format(total))"
   ]
  },
  {
   "cell_type": "code",
   "execution_count": 94,
   "id": "b741e192",
   "metadata": {},
   "outputs": [
    {
     "name": "stdout",
     "output_type": "stream",
     "text": [
      "5.5\n"
     ]
    }
   ],
   "source": [
    "list=[\"banana\",\"orange\",\"apple\"]\n",
    "stock={\n",
    "    \"banana\":6,\n",
    "    \"apple\":0,\n",
    "    \"orange\":32,\n",
    "    \"pear\":15\n",
    "}\n",
    "\n",
    "prices={\n",
    "    \"banana\":4,\n",
    "    \"apple\":2,\n",
    "    \"orange\":1.5,\n",
    "    \"pear\":3\n",
    "}\n",
    "\n",
    "def compute_bill(grocery):\n",
    "    total=0\n",
    "    for x in grocery:\n",
    "        if stock[x] > 0:\n",
    "            total += prices[x]\n",
    "            stock[x] -= 1\n",
    "    return total\n",
    "print (compute_bill(list))"
   ]
  },
  {
   "cell_type": "code",
   "execution_count": 3,
   "id": "037851de",
   "metadata": {},
   "outputs": [
    {
     "name": "stdout",
     "output_type": "stream",
     "text": [
      "Eren\n",
      "[90.0, 97.0, 75.0, 92.0]\n",
      "[88.0, 40.0, 94.0]\n",
      "[75.0, 90.0]\n",
      "Mikasa\n",
      "[100.0, 92.0, 98.0, 100.0]\n",
      "[82.0, 83.0, 91.0]\n",
      "[89.0, 97.0]\n",
      "Armin\n",
      "[0.0, 87.0, 75.0, 22.0]\n",
      "[0.0, 75.0, 78.0]\n",
      "[100.0, 100.0]\n",
      "83.86666666666666\n",
      "B\n"
     ]
    }
   ],
   "source": [
    "eren = { \n",
    "    \"name\": \"Eren\", \n",
    "    \"homework\": [90.0,97.0,75.0,92.0], \n",
    "    \"quizzes\": [88.0,40.0,94.0], \n",
    "    \"tests\": [75.0,90.0] \n",
    "} \n",
    "\n",
    "mikasa = { \n",
    "    \"name\": \"Mikasa\", \n",
    "    \"homework\": [100.0, 92.0, 98.0, 100.0], \n",
    "    \"quizzes\": [82.0, 83.0, 91.0],\n",
    "    \"tests\": [89.0, 97.0] \n",
    "}\n",
    "\n",
    "armin = { \n",
    "    \"name\": \"Armin\", \n",
    "    \"homework\": [0.0, 87.0, 75.0, 22.0], \n",
    "    \"quizzes\": [0.0, 75.0, 78.0], \n",
    "    \"tests\": [100.0, 100.0] \n",
    "}\n",
    "\n",
    "students=[eren,mikasa,armin]\n",
    "\n",
    "for s in students:\n",
    "    print (s[\"name\"])\n",
    "    print (s[\"homework\"])\n",
    "    print (s[\"quizzes\"])\n",
    "    print (s[\"tests\"])\n",
    "\n",
    "def average(numbers):\n",
    "    total=float(sum(numbers))\n",
    "    media= total / (len(numbers))\n",
    "    return media\n",
    "\n",
    "def get_average(student):\n",
    "    homework = average(student[\"homework\"])\n",
    "    quizzes = average(student[\"quizzes\"])\n",
    "    tests=average(student[\"tests\"])\n",
    "    final= 0.1*homework + 0.3*quizzes + 0.6*tests\n",
    "    return final\n",
    "\n",
    "def get_letter_grade(s):\n",
    "    if s >= 90:\n",
    "        return \"A\"\n",
    "    elif s >= 80:\n",
    "        return \"B\"\n",
    "    elif s >= 70:\n",
    "        return \"C\"\n",
    "    elif s >= 60:\n",
    "        return \"D\"\n",
    "    else:\n",
    "        return \"F\"\n",
    "# print (get_letter_grade(get_average(lloyd)))\n",
    "#Lloyd not the students list (question not right?)\n",
    "\n",
    "def get_class_average(students):\n",
    "    results=[]\n",
    "    for student in students:\n",
    "        r=get_average(student)\n",
    "        results.append(r)\n",
    "        \n",
    "    return average(results)\n",
    "\n",
    "students=[eren,mikasa,armin]\n",
    "\n",
    "print (get_class_average(students))\n",
    "print (get_letter_grade(get_class_average(students)))"
   ]
  },
  {
   "cell_type": "code",
   "execution_count": null,
   "id": "f470068a",
   "metadata": {},
   "outputs": [],
   "source": []
  }
 ],
 "metadata": {
  "kernelspec": {
   "display_name": "Python 3 (ipykernel)",
   "language": "python",
   "name": "python3"
  },
  "language_info": {
   "codemirror_mode": {
    "name": "ipython",
    "version": 3
   },
   "file_extension": ".py",
   "mimetype": "text/x-python",
   "name": "python",
   "nbconvert_exporter": "python",
   "pygments_lexer": "ipython3",
   "version": "3.9.2"
  }
 },
 "nbformat": 4,
 "nbformat_minor": 5
}
